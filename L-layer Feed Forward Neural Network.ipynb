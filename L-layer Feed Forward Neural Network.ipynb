{
 "cells": [
  {
   "cell_type": "markdown",
   "metadata": {},
   "source": [
    "# L-layer Feed Forward Neural Network\n",
    "The purpose of this project is to build Deep Feed Forward Neural Network from scratch in python.\n",
    "\n",
    "After the network is built, it will be trained using images of cats and dogs in order to learn the mapping from the inputs to the output and classify them correctly.\n",
    "\n",
    "Feed Forward Neural network is not the best choice for image classification and is significantly inferior to Convolutional Neural Network. It's merely used for the purpose of showing how it works."
   ]
  },
  {
   "cell_type": "code",
   "execution_count": 105,
   "metadata": {},
   "outputs": [],
   "source": [
    "# Import libraries\n",
    "import os\n",
    "import time\n",
    "import numpy as np\n",
    "import random\n",
    "import zipfile\n",
    "import cv2\n",
    "\n",
    "# Visualiztion\n",
    "import matplotlib.pyplot as plt"
   ]
  },
  {
   "cell_type": "markdown",
   "metadata": {},
   "source": [
    "### Toy Dataset\n",
    "This dataset will be used to check the correctness of the neural network before applaying other dataset containing images of cats and dogs."
   ]
  },
  {
   "cell_type": "code",
   "execution_count": 2,
   "metadata": {},
   "outputs": [],
   "source": [
    "# Data\n",
    "x = np.array([  [0,0,1],\n",
    "                [0,1,1],\n",
    "                [1,0,1],\n",
    "                [1,1,1]  ]).T\n",
    "\n",
    "y = np.array([[0,0,1,1]])"
   ]
  },
  {
   "cell_type": "markdown",
   "metadata": {},
   "source": [
    "### Acivation Functions\n",
    "Activation functions which will be used in our model."
   ]
  },
  {
   "cell_type": "markdown",
   "metadata": {},
   "source": [
    "**Relu:**\n",
    "\n",
    "This activation function turns all negative values into 0s while all positive stay the same\n",
    "\n",
    "**Relu Formula:**\n",
    "$$ relu(z) = max(0, z) $$"
   ]
  },
  {
   "cell_type": "code",
   "execution_count": 3,
   "metadata": {},
   "outputs": [
    {
     "data": {
      "image/png": "[encoded data removed]",
      "text/plain": [
       "<matplotlib.figure.Figure at 0x1d06572c2b0>"
      ]
     },
     "metadata": {},
     "output_type": "display_data"
    }
   ],
   "source": [
    "def relu(x, deriv=False):\n",
    "    if deriv:\n",
    "        return 1. * (x > 0)\n",
    "    else:\n",
    "        return np.maximum(0,x)\n",
    "\n",
    "j = np.arange(20)-10\n",
    "    \n",
    "plt.plot(j, relu(j))\n",
    "plt.show()"
   ]
  },
  {
   "cell_type": "markdown",
   "metadata": {},
   "source": [
    "**Sigmoid:**\n",
    "\n",
    "This function squashes all values into probabilities ranging from 0 to 1. Although this isn't recommended as activation funcion within hidden layers, it's still used in output layers to get a prediciton of a given class being true or false. It can be also used in our case to classify whether our picture has a cat in it (lable 0) or dog (label 1).\n",
    "\n",
    "**Sigmoid formula:**\n",
    "$$ sigmoid(x) = \\frac{1}{1 + e^{-x}} $$\n"
   ]
  },
  {
   "cell_type": "code",
   "execution_count": 4,
   "metadata": {},
   "outputs": [
    {
     "data": {
      "image/png": "[encoded data removed]",
      "text/plain": [
       "<matplotlib.figure.Figure at 0x1d065a40fd0>"
      ]
     },
     "metadata": {},
     "output_type": "display_data"
    }
   ],
   "source": [
    "def sigmoid(x, deriv=False):\n",
    "    if deriv:\n",
    "        return (1/(1 + np.exp(-x))) * (1-(1/(1 + np.exp(-x))))\n",
    "    else:\n",
    "        return 1/(1 + np.exp(-x))\n",
    "    \n",
    "j = np.arange(20) - 10\n",
    "\n",
    "plt.plot(j, sigmoid(j))\n",
    "plt.show()"
   ]
  },
  {
   "cell_type": "markdown",
   "metadata": {},
   "source": [
    "### Building the network"
   ]
  },
  {
   "cell_type": "markdown",
   "metadata": {},
   "source": [
    "**Initialize parameters for a L-layer neural network**\n",
    "\n",
    "Initialize weights and biases given **layer_dims** variable. For instance a network with dimensions of $[4, 3, 1]$ will be 2 layers deep because the input layer $[4]$ is ommited and isn't included in the numer of layers. The network will therefore have 2 sets of weights and biases with dimensions of $W^{[1]} = [3, 4], b^{[1]} = [3, 1], W^{[2]} = [1, 3], b^{[2]} = [1, 1]$.\n",
    "\n",
    "- Input layer [4] is ommited and doesn't add up to the numer of layers.\n",
    "- Dimensions of $W[l] = [l, l - 1]$ while the dimensions of $b[l] = [l, 0]$\n",
    "- Use random initialization for weights and initialize all biases to zero."
   ]
  },
  {
   "cell_type": "code",
   "execution_count": 5,
   "metadata": {},
   "outputs": [],
   "source": [
    "def initialize_parameters(layer_dims):\n",
    "    \n",
    "    np.random.seed(1) # This ensures that our number values will always be the same.\n",
    "    parameters = {}\n",
    "    \n",
    "    L = len(layers_dims) # Number of layers in the network\n",
    "    \n",
    "    for l in range(1, L):\n",
    "        parameters['W' + str(l)] = np.random.randn(layer_dims[l], layer_dims[l-1]) / np.sqrt(layer_dims[l-1]) #*0.01\n",
    "        parameters['b' + str(l)] = np.zeros((layer_dims[l], 1))\n",
    "        \n",
    "        assert(parameters['W' + str(l)].shape == (layer_dims[l], layer_dims[l-1]))\n",
    "        assert(parameters['b' + str(l)].shape == (layer_dims[l], 1))\n",
    "        \n",
    "    return parameters"
   ]
  },
  {
   "cell_type": "markdown",
   "metadata": {},
   "source": [
    "### Forward propagation\n",
    "Forward propagation represents one forward pass through the network. Given inputs $X^n$ the network calculates the probability $AL$ ranging from 0 to 1.\n",
    "\n",
    "\n",
    "<img src=\"https://image.ibb.co/hjKjnc/network_graph.png\" style=\"width:800px;height:400px;\">\n"
   ]
  },
  {
   "cell_type": "markdown",
   "metadata": {},
   "source": [
    "**Compute the forward pass for 2-layer neural network:**\n",
    "$$Z^{[1]} = (W^{[1]})^T * X + b^{[1]}$$\n",
    "$$A^{[1]} = relu(Z^{[1]})$$\n",
    "$$Z^{[2]} = (W^{[2]})^T * A^{[1]} + b^{[2]}$$\n",
    "$$output = AL = sigmoid(Z^{[2]})$$\n"
   ]
  },
  {
   "cell_type": "code",
   "execution_count": 6,
   "metadata": {},
   "outputs": [],
   "source": [
    "def linear_forward(A_prev, W, b):\n",
    "    Z = np.dot(W, A_prev) + b\n",
    "    cache = (A_prev, W, b)\n",
    "    \n",
    "    return Z, cache"
   ]
  },
  {
   "cell_type": "code",
   "execution_count": 7,
   "metadata": {},
   "outputs": [],
   "source": [
    "def linear_activation_forward(A_prev, W, b, activation):\n",
    "    \n",
    "    if activation == \"relu\":\n",
    "        Z, linear_cache = linear_forward(A_prev, W, b)\n",
    "        A, activation_cache = relu(Z), Z\n",
    "        \n",
    "    elif activation == \"sigmoid\":\n",
    "        Z, linear_cache = linear_forward(A_prev, W, b)\n",
    "        A, activation_cache = sigmoid(Z), Z\n",
    "        \n",
    "    cache = (linear_cache, activation_cache)\n",
    "    \n",
    "    return A, cache"
   ]
  },
  {
   "cell_type": "code",
   "execution_count": 8,
   "metadata": {},
   "outputs": [],
   "source": [
    "def L_model_forward(X, parameters):\n",
    "    L = len(parameters) // 2\n",
    "    caches = []\n",
    "    A = X\n",
    "    \n",
    "    for l in range(1, L):\n",
    "        A_prev = A\n",
    "        A, cache = linear_activation_forward(A_prev, parameters[\"W\" + str(l)], parameters[\"b\" + str(l)], activation=\"relu\")\n",
    "        caches.append(cache)\n",
    "    \n",
    "    AL, cache = linear_activation_forward(A, parameters[\"W\" + str(L)], parameters[\"b\" + str(L)], activation=\"sigmoid\")\n",
    "    caches.append(cache)\n",
    "    \n",
    "    return AL, caches"
   ]
  },
  {
   "cell_type": "markdown",
   "metadata": {},
   "source": [
    "### Compute cost\n",
    "\n",
    "Compute the cross-entropy cost $J$, using the following formula: $$-\\frac{1}{m} \\sum\\limits_{i = 1}^{m} (y^{(i)}\\log\\left(a^{[L] (i)}\\right) + (1-y^{(i)})\\log\\left(1- a^{[L](i)}\\right)) \\tag{7}$$"
   ]
  },
  {
   "cell_type": "code",
   "execution_count": 9,
   "metadata": {},
   "outputs": [],
   "source": [
    "def compute_cost(AL, Y):\n",
    "    m = Y.shape[1]\n",
    "\n",
    "    # Compute loss from aL and y.\n",
    "    cost = (1./m) * (-np.dot(Y,np.log(AL).T) - np.dot(1-Y, np.log(1-AL).T))\n",
    "    \n",
    "    cost = np.squeeze(cost)      # To make sure your cost's shape is what we expect (e.g. this turns [[17]] into 17).\n",
    "    assert(cost.shape == ())\n",
    "    \n",
    "    return cost"
   ]
  },
  {
   "cell_type": "markdown",
   "metadata": {},
   "source": [
    "### Backpropagation\n",
    "Backpropagation represents one backward pass through the network. It calculates the gradients of our parameters $[W^{[1]}], [b^{[1]}], [W^{[2]}], [2^{[2]}]$ with respect to the cost $J$.\n",
    "The gradients are later used to update these parameters using some optimization technique such as stochastic gradiend descent, rms-prop or adam.\n",
    "\n",
    "**Compute the backward pass:**\n",
    "$$ dAL = \\frac{\\partial \\mathcal{L} }{\\partial AL} = -\\frac{y}{AL} + \\frac{1-y}{1-AL} $$\n",
    "$$ dZ^{[2]} = \\frac{\\partial \\mathcal{L}}{\\partial Z^{[2]}} = \n",
    "\\frac{\\partial \\mathcal{L}}{\\partial AL} * \\frac{\\partial{AL}}{\\partial Z^{[2]}} $$\n",
    "$$ = -\\frac{y}{AL} + \\frac{1-y}{1-AL} * AL * (1-AL) = AL - y $$\n",
    "\n",
    "$$ dW^{[2]} = \\frac{\\partial \\mathcal{L} }{\\partial W^{[2]}} = \\frac{1}{m} dZ^{[2]} A^{[1] T} $$\n",
    "$$ db^{[2]} = \\frac{\\partial \\mathcal{L} }{\\partial b^{[2]}} = \\frac{1}{m} dZ^{[2]} $$\n",
    "\n",
    "$$ dA^{[1]} = \\frac{\\partial \\mathcal{L} }{\\partial A^{[1]}} = dZ^{[2]} * (W^{[2]})^{T} $$\n",
    "$$ dZ^{[1]} = \\frac{\\partial \\mathcal{L}}{\\partial Z^{[1]}} = dA^{[1]} * relu'(dA^{[1]}) $$\n",
    "\n",
    "$$ dW^{[1]} = \\frac{\\partial \\mathcal{L} }{\\partial W^{[1]}} = \\frac{1}{m} dZ^{[1]} X.T $$\n",
    "$$ db^{[1]} = \\frac{\\partial \\mathcal{L} }{\\partial b^{[1]}} = \\frac{1}{m} dZ^{[1]} $$\n"
   ]
  },
  {
   "cell_type": "code",
   "execution_count": 10,
   "metadata": {},
   "outputs": [],
   "source": [
    "def linear_backward(dZ, cache):\n",
    "    A_prev, W, b = cache\n",
    "    m = A_prev.shape[1]\n",
    "    \n",
    "    dW = (1.0 / m) * np.dot(dZ, A_prev.T)\n",
    "    db = (1.0 / m) * np.sum(dZ, axis=-1, keepdims=True)\n",
    "    \n",
    "    dA_prev = np.dot(W.T, dZ)\n",
    "    \n",
    "    return dA_prev, dW, db"
   ]
  },
  {
   "cell_type": "code",
   "execution_count": 11,
   "metadata": {},
   "outputs": [],
   "source": [
    "def sigmoid_backward(dA, cache):\n",
    "    \n",
    "    Z = cache\n",
    "    \n",
    "    s = 1/(1+np.exp(-Z))\n",
    "    dZ = dA * s * (1-s)\n",
    "    \n",
    "    assert (dZ.shape == Z.shape)\n",
    "    \n",
    "    return dZ\n",
    "\n",
    "def relu_backward(dA, cache):\n",
    "\n",
    "    Z = cache\n",
    "    dZ = np.array(dA, copy=True) # just converting dz to a correct object.\n",
    "    \n",
    "    # When z <= 0, you should set dz to 0 as well. \n",
    "    dZ[Z <= 0] = 0\n",
    "    \n",
    "    assert (dZ.shape == Z.shape)\n",
    "    \n",
    "    return dZ\n",
    "\n",
    "\n",
    "def linear_activation_backward(dA, cache, activation):\n",
    "    linear_cache, activation_cache = cache\n",
    "    \n",
    "    if activation == \"relu\":\n",
    "        dZ = relu_backward(dA, activation_cache)\n",
    "        #dZ = dA * relu(activation_cache, True)\n",
    "        \n",
    "    elif activation == \"sigmoid\":\n",
    "        dZ = sigmoid_backward(dA, activation_cache)\n",
    "        #dZ = dA * sigmoid(activation_cache, True)\n",
    "        \n",
    "    dA_prev, dW, db = linear_backward(dZ, linear_cache)\n",
    "    \n",
    "    return dA_prev, dW, db\n",
    "        "
   ]
  },
  {
   "cell_type": "code",
   "execution_count": 12,
   "metadata": {},
   "outputs": [],
   "source": [
    "def L_model_backward(AL, Y, caches):\n",
    "    L = len(caches)\n",
    "    grads = {}\n",
    "    m = AL.shape[1]\n",
    "    Y = Y.reshape(AL.shape)\n",
    "    \n",
    "    dAL = - (np.divide(Y, AL) - np.divide(1 - Y, 1 - AL))\n",
    "    \n",
    "    current_cache = caches[-1]\n",
    "    grads[\"dA\" + str(L)], grads[\"dW\" + str(L)], grads[\"db\" + str(L)] = linear_activation_backward(dAL, current_cache, \n",
    "                                                                                                  activation = \"sigmoid\")\n",
    "    \n",
    "    for l in reversed(range(1, L)):\n",
    "        current_cache = caches[l - 1]\n",
    "        dA = grads[\"dA\" + str(l+1)]\n",
    "        grads[\"dA\" + str(l)], grads[\"dW\" + str(l)], grads[\"db\" + str(l)] = linear_activation_backward(dA, current_cache,\n",
    "                                                                                                     activation = \"relu\")\n",
    "    return grads"
   ]
  },
  {
   "cell_type": "markdown",
   "metadata": {},
   "source": [
    "### Update parameters (using Gradient Descent)\n",
    "Update parameters using Stochastic Gradient Descent. Use the gradients calculated during backward pass.\n",
    "$$ W^{[l]} = W^{[l]} - \\alpha \\text{ } dW^{[l]} $$\n",
    "$$ b^{[l]} = b^{[l]} - \\alpha \\text{ } db^{[l]} $$\n",
    "Where $\\alpha$ represents learning rate hyperparameter, which we can later tune in order to improve network's performance."
   ]
  },
  {
   "cell_type": "code",
   "execution_count": 53,
   "metadata": {},
   "outputs": [],
   "source": [
    "def update_parameters(parameters, grads, learning_rate):\n",
    "    L = len(parameters) // 2  # number of layers in the neural network\n",
    "\n",
    "    # Update rule for each parameter. Use a for loop.\n",
    "    for l in range(L):\n",
    "        parameters[\"W\" + str(l+1)] = parameters[\"W\" + str(l+1)] - learning_rate * grads[\"dW\" + str(l+1)]\n",
    "        parameters[\"b\" + str(l+1)] = parameters[\"b\" + str(l+1)] - learning_rate * grads[\"db\" + str(l+1)]\n",
    "        \n",
    "    return parameters"
   ]
  },
  {
   "cell_type": "markdown",
   "metadata": {},
   "source": [
    "### Build the Network\n",
    "Build the network using functions defined above and train it on toy dataset to see if everything is implemented correctly. \n",
    "Graph the cost functions over all iterations."
   ]
  },
  {
   "cell_type": "code",
   "execution_count": 56,
   "metadata": {},
   "outputs": [],
   "source": [
    "# Constants #\n",
    "layers_dims = [3, 5, 5, 1]\n",
    "iterations = 5000\n",
    "log_every=  500"
   ]
  },
  {
   "cell_type": "code",
   "execution_count": 57,
   "metadata": {},
   "outputs": [],
   "source": [
    "def L_layer_model_simple(X, Y, layers_dims, iterations, parameters=None, learning_rate = 0.0075, log_every = 10):\n",
    "\n",
    "    parameters = initialize_parameters(layers_dims)\n",
    "    costs = []\n",
    "    \n",
    "    for i in range(iterations):\n",
    "\n",
    "        # Forward pass\n",
    "        AL, caches = L_model_forward(X, parameters)\n",
    "        \n",
    "        # Calculate the cost\n",
    "        cost = compute_cost(AL, Y)\n",
    "        costs.append(cost)\n",
    "        \n",
    "        # Get gradients for our parameters\n",
    "        grads = L_model_backward(AL, Y, caches)\n",
    "\n",
    "        # Update parameters using gradient descent\n",
    "        parameters = update_parameters(parameters, grads, learning_rate)\n",
    "        \n",
    "        if i % log_every == 0:\n",
    "            print(\"Iteration:\", i, \"Cost:\", cost)\n",
    "            \n",
    "    # Plot the cost\n",
    "    plt.plot(np.squeeze(costs))\n",
    "    plt.ylabel('cost')\n",
    "    plt.xlabel('iterations')\n",
    "    plt.title(\"Learning rate =\" + str(learning_rate))\n",
    "    plt.show()\n",
    "    \n",
    "    return parameters, costs"
   ]
  },
  {
   "cell_type": "code",
   "execution_count": 59,
   "metadata": {},
   "outputs": [
    {
     "name": "stdout",
     "output_type": "stream",
     "text": [
      "Iteration: 0 Cost: 0.690750398375514\n",
      "Iteration: 500 Cost: 0.4936871776582399\n",
      "Iteration: 1000 Cost: 0.23904265175421413\n",
      "Iteration: 1500 Cost: 0.07821585002966713\n",
      "Iteration: 2000 Cost: 0.02986988158486701\n",
      "Iteration: 2500 Cost: 0.0157054585384173\n",
      "Iteration: 3000 Cost: 0.009963254029318597\n",
      "Iteration: 3500 Cost: 0.007090680859856887\n",
      "Iteration: 4000 Cost: 0.005391163350264521\n",
      "Iteration: 4500 Cost: 0.004289963209659829\n"
     ]
    },
    {
     "data": {
      "image/png": "[encoded data removed]",
      "text/plain": [
       "<matplotlib.figure.Figure at 0x1d021126cf8>"
      ]
     },
     "metadata": {},
     "output_type": "display_data"
    }
   ],
   "source": [
    "parameters, costs = L_layer_model_simple(x, y, layers_dims, iterations = iterations, log_every= log_every)"
   ]
  },
  {
   "cell_type": "markdown",
   "metadata": {},
   "source": [
    "The loss calculated on the entire dataset decreases smoovely meaning that the gradient descent is implemented correctly."
   ]
  },
  {
   "cell_type": "markdown",
   "metadata": {},
   "source": [
    "# Real World Dataset (Dogs/Cats Classifier)\n",
    "In this part the network will be applied to real world task such as photo classification. We'll train the network on 2,000 labeled images of cats and dogs and then evaluate it on 500 examples of test data."
   ]
  },
  {
   "cell_type": "markdown",
   "metadata": {},
   "source": [
    "### Load and Preprocess Images\n",
    "Load all images into numpy arrays and resize them to $[32, 32, 3]$. Colored images have 3 RGB channels while black and white images have only 1 channel. This dataset contains only colored images and that's what will be loaded into our 3 separate datasets: **train_set, dev_set and test_set**. \n",
    "- Our network will be trained on train_set, then we'll verify how well it's doing on the dev_set in order to tweek our hyperparameters and improve performance. At the very end, when everything works well, we'll test its final performance using test_set to make sure that our network doesn't overfeet train and dev sets.\n",
    "- All images will be flattened into $[m, 3072]$ where $m$ is a number of images and $3072 = 32 x 32 x 3$ so that we can feed it into our neural network\n",
    "- Then we'll normalize (scale) all pixels in our images by dividing them by max value a pixel can have (255) to help the network converge quicker. The reason for this is that if the input values are to high sigmoid activation function has hard time dealing with them and outputs very small numbers which result in tiny gradients during backpropagation and therefore slow down the learning process. (Look at the graph above showing sigmoid function). "
   ]
  },
  {
   "cell_type": "code",
   "execution_count": 61,
   "metadata": {},
   "outputs": [
    {
     "name": "stdout",
     "output_type": "stream",
     "text": [
      "Train set shape: (22000, 3072), Train labels shape: (22000, 1)\n",
      "Dev set shape: (1500, 3072), Dev labels shape: (1500, 1)\n",
      "Test set shape: (1500, 3072), Test labels shape: (1500, 1)\n"
     ]
    }
   ],
   "source": [
    "# Directories\n",
    "TRAIN_DIR = 'input/train/'\n",
    "TEST_DIR = \"test/\"\n",
    "\n",
    "# Image size\n",
    "ROWS, COLS, CHANNELS = 32, 32, 3\n",
    "\n",
    "# Load the image directories into variables and split them into separate data sets.\n",
    "img_dogs =   [TRAIN_DIR+i for i in os.listdir(TRAIN_DIR) if 'dog' in i]\n",
    "img_cats =   [TRAIN_DIR+i for i in os.listdir(TRAIN_DIR) if 'cat' in i]\n",
    "\n",
    "train_images = img_dogs[:11000] + img_cats[:11000]\n",
    "dev_images = img_dogs[11000:11750] + img_cats[11000:11750]\n",
    "test_images = img_dogs[11750:12500] + img_cats[11750:12500]\n",
    "\n",
    "# Randomly shuffle the images\n",
    "random.shuffle(train_images), random.shuffle(dev_images), random.shuffle(test_images)\n",
    "\n",
    "# Load the image from given directorie\n",
    "def read_image(file_path):\n",
    "    img = cv2.imread(file_path, cv2.IMREAD_COLOR) #cv2.IMREAD_GRAYSCALE\n",
    "    return cv2.resize(img, (ROWS, COLS), interpolation=cv2.INTER_CUBIC)\n",
    "\n",
    "# Load the images into 32 x 32 x 3 numpy arrays\n",
    "def prep_data(images):\n",
    "    count = len(images)\n",
    "    data = np.ndarray((count, ROWS, COLS, CHANNELS), dtype=np.uint8)\n",
    "\n",
    "    for i, image_file in enumerate(images):\n",
    "        image = read_image(image_file)\n",
    "        data[i] = image\n",
    "        if i%500 == 0: print('Processed {} of {}'.format(i, count))\n",
    "    \n",
    "    return data\n",
    "\n",
    "# Flatten the images with dimensions [32, 32, 3] into one row array [3072, 1]. (3072 = 32*32*3)\n",
    "def flatten_images(data):\n",
    "    m = data.shape[0]\n",
    "    depth = data.shape[1]\n",
    "    width = data.shape[2]\n",
    "    height = data.shape[3]\n",
    "    \n",
    "    flatten_images = data.reshape(m, depth*width*height)\n",
    "    return flatten_images\n",
    "\n",
    "# Noramlize the images by dividing the pixels by the highest value they can be which is 255.\n",
    "def normalize_images(images):\n",
    "    return images / 255\n",
    "\n",
    "# Create labels for the images\n",
    "def create_labels(images):\n",
    "    labels = []\n",
    "    for i in images:\n",
    "        if 'dog' in i:\n",
    "            labels.append(1)\n",
    "        else:\n",
    "            labels.append(0)\n",
    "    labels = np.array(labels, ndmin=2).T\n",
    "    return labels\n",
    "\n",
    "\n",
    "# Load images into datasets\n",
    "train_set = normalize_images(flatten_images(prep_data(train_images)))\n",
    "dev_set = normalize_images(flatten_images(prep_data(dev_images)))\n",
    "test_set = normalize_images(flatten_images(prep_data(test_images)))\n",
    "\n",
    "# Create labels\n",
    "train_labels = create_labels(train_images)\n",
    "dev_labels = create_labels(dev_images)\n",
    "test_labels = create_labels(test_images)\n",
    "\n",
    "print(\"Train set shape: {}, Train labels shape: {}\".format(train_set.shape, train_labels.shape))\n",
    "print(\"Dev set shape: {}, Dev labels shape: {}\".format(dev_set.shape, dev_labels.shape))\n",
    "print(\"Test set shape: {}, Test labels shape: {}\".format(test_set.shape, test_labels.shape))"
   ]
  },
  {
   "cell_type": "markdown",
   "metadata": {},
   "source": [
    "**Show an Image**\n",
    "\n",
    "Show an image of a dog with a label 1 (dog = 1, cat = 0)."
   ]
  },
  {
   "cell_type": "code",
   "execution_count": 65,
   "metadata": {},
   "outputs": [
    {
     "data": {
      "image/png": "[encoded data removed]",
      "text/plain": [
       "<matplotlib.figure.Figure at 0x1d06a5e0278>"
      ]
     },
     "metadata": {},
     "output_type": "display_data"
    }
   ],
   "source": [
    "plt.imshow(train_set[131].reshape(32, 32, 3))\n",
    "plt.title(train_labels[131])\n",
    "plt.show()"
   ]
  },
  {
   "cell_type": "markdown",
   "metadata": {},
   "source": [
    "### Build a model (mini-batch)\n",
    "Training the network on let's say... 100.000 images at the same time requires a lot of computing power. Therefore to make it easier on our computer we implement mini-batching which divides the dataset into many samples and then feed that into the neural network. Then we'll test our network's performance on a development set to see how well it generalizes to the images it has not seen before.\n",
    "- Implemet mini-batches\n",
    "- Implement test_model() fucntion"
   ]
  },
  {
   "cell_type": "code",
   "execution_count": 62,
   "metadata": {},
   "outputs": [],
   "source": [
    "def get_batches(images, labels, batch_size):\n",
    "    ''' Create a generator of images batches as a tuple (inputs, targets) '''\n",
    "    \n",
    "    n_batches = len(images) //batch_size\n",
    "    \n",
    "    # only full batches\n",
    "    images = images[:n_batches*batch_size]\n",
    "    \n",
    "    for idx in range(0, len(images), batch_size):\n",
    "        batch_inputs = images[idx:idx+batch_size]\n",
    "        batch_labels = labels[idx:idx+batch_size]\n",
    "        \n",
    "        yield (np.array(batch_inputs).T , np.array(batch_labels, ndmin=2).T)"
   ]
  },
  {
   "cell_type": "code",
   "execution_count": 63,
   "metadata": {},
   "outputs": [],
   "source": [
    "def test_model(AL, Y):\n",
    "    # Number of examples\n",
    "    m = Y.shape[1]\n",
    "    correct = 0\n",
    "    for i in range(m):\n",
    "        if(AL[0,i] >= 0.5 and Y[0,i] == 1):\n",
    "            correct += 1\n",
    "            \n",
    "        elif(AL[0,i] < 0.5 and Y[0,i] == 0):\n",
    "            correct += 1\n",
    "            \n",
    "    prob = (correct / m) * 100\n",
    "    return prob        "
   ]
  },
  {
   "cell_type": "code",
   "execution_count": 64,
   "metadata": {},
   "outputs": [],
   "source": [
    "def L_layer_model_default(x, y, X_dev, Y_dev, layers_dims, epochs, batch_size, parameters=None, costs=None, dev_costs=None, learning_rate = 0.0075, log_every = 10):\n",
    "    \n",
    "    if parameters == None:\n",
    "        parameters = initialize_parameters(layers_dims)\n",
    "        costs = []\n",
    "        dev_costs = []\n",
    "     \n",
    "    # Find out how many batches you'll get\n",
    "    n_batches = len(x) //batch_size\n",
    "    \n",
    "    for epoch in range(epochs):\n",
    "        batches = get_batches(x, y, batch_size)\n",
    "        # total cost of all batches\n",
    "        cost_batches = 0\n",
    "        \n",
    "        for i, (X, Y) in enumerate(batches):\n",
    "            \n",
    "            AL, caches = L_model_forward(X, parameters)\n",
    "\n",
    "            cost = compute_cost(AL, Y)\n",
    "            cost_batches += cost\n",
    "\n",
    "            grads = L_model_backward(AL, Y, caches)\n",
    "\n",
    "            parameters = update_parameters(parameters, grads, learning_rate)\n",
    "        \n",
    "        # Append the average cost over all batches in one epoch.\n",
    "        costs.append(cost_batches / n_batches)\n",
    "        \n",
    "        # Development cost\n",
    "        AL_dev, _ = L_model_forward(X_dev, parameters)\n",
    "        dev_costs.append(compute_cost(AL_dev, Y_dev))\n",
    "            \n",
    "        if epoch % log_every == 0:\n",
    "            AL_train, _ = L_model_forward(x.T, parameters)\n",
    "            AL_test, _ = L_model_forward(X_dev, parameters)\n",
    "            prob_train = test_model(AL_train, y.T)\n",
    "            prob_test = test_model(AL_test, Y_dev)\n",
    "            print(\"Epoch:\", epoch, \"Cost:\", cost, \"Train performance:\", prob_train,\"Dev performance:\", prob_test)   \n",
    "\n",
    "            \n",
    "    # plot the cost and dev_cost\n",
    "    plt.plot(np.squeeze(costs))\n",
    "    plt.plot(np.squeeze(dev_costs))\n",
    "    plt.ylabel('cost')\n",
    "    plt.xlabel('epochs')\n",
    "    plt.title(\"Learning rate =\" + str(learning_rate))\n",
    "    plt.show()\n",
    "    \n",
    "    return parameters, costs, dev_costs"
   ]
  },
  {
   "cell_type": "markdown",
   "metadata": {},
   "source": [
    "### Train the Network\n",
    "Train the network on 2000 images."
   ]
  },
  {
   "cell_type": "code",
   "execution_count": 101,
   "metadata": {
    "scrolled": false
   },
   "outputs": [
    {
     "name": "stdout",
     "output_type": "stream",
     "text": [
      "Epoch: 0 Cost: 0.693225184910056 Train performance: 50.9 Dev performance: 52.800000000000004\n",
      "Epoch: 5 Cost: 0.670806752314321 Train performance: 59.599999999999994 Dev performance: 57.4\n",
      "Epoch: 10 Cost: 0.6590607112037186 Train performance: 62.6 Dev performance: 61.199999999999996\n",
      "Epoch: 15 Cost: 0.649450746494467 Train performance: 63.849999999999994 Dev performance: 62.6\n",
      "Epoch: 20 Cost: 0.6413030445379146 Train performance: 64.14999999999999 Dev performance: 61.6\n",
      "Epoch: 25 Cost: 0.633790694095125 Train performance: 64.9 Dev performance: 60.199999999999996\n",
      "Epoch: 30 Cost: 0.6269717317954311 Train performance: 66.0 Dev performance: 60.0\n",
      "Epoch: 35 Cost: 0.6203038082307795 Train performance: 67.0 Dev performance: 60.4\n",
      "Epoch: 40 Cost: 0.6137290094150587 Train performance: 67.4 Dev performance: 60.199999999999996\n",
      "Epoch: 45 Cost: 0.6073130937841942 Train performance: 68.15 Dev performance: 60.4\n"
     ]
    },
    {
     "data": {
      "image/png": "[encoded data removed]",
      "text/plain": [
       "<matplotlib.figure.Figure at 0x1d065827be0>"
      ]
     },
     "metadata": {},
     "output_type": "display_data"
    }
   ],
   "source": [
    "layers_dims = [3072, 512, 1]\n",
    "parameters, costs, dev_costs = L_layer_model_default(train_set[0:2000], train_labels[0:2000], \n",
    "                             dev_set[:500].T, dev_labels[:500].T, \n",
    "                             layers_dims, \n",
    "                             epochs = 50,\n",
    "                             batch_size = 128,\n",
    "                             parameters=None, \n",
    "                             costs=None,\n",
    "                             dev_costs=None,\n",
    "                             learning_rate = 0.0075, \n",
    "                             log_every=5)"
   ]
  },
  {
   "cell_type": "markdown",
   "metadata": {},
   "source": [
    "### Test"
   ]
  },
  {
   "cell_type": "code",
   "execution_count": 102,
   "metadata": {},
   "outputs": [
    {
     "name": "stdout",
     "output_type": "stream",
     "text": [
      "Accuracy on test set: 59.53333333333334\n"
     ]
    }
   ],
   "source": [
    "def test(test_set, test_labels, parameters):\n",
    "    AL, _ = L_model_forward(test_set, parameters)\n",
    "    \n",
    "    prob = test_model(AL, test_labels)\n",
    "    \n",
    "    print(\"Accuracy on test set:\", prob) \n",
    "    \n",
    "    return prob\n",
    "\n",
    "prob = test(test_set.T, test_labels.T, parameters)"
   ]
  },
  {
   "cell_type": "markdown",
   "metadata": {},
   "source": [
    "### Improved\n",
    "Let's improve the performance of our network by feeding it with more images."
   ]
  },
  {
   "cell_type": "code",
   "execution_count": 103,
   "metadata": {},
   "outputs": [
    {
     "name": "stdout",
     "output_type": "stream",
     "text": [
      "Epoch: 0 Cost: 0.6665126379967218 Train performance: 59.49545454545454 Dev performance: 58.733333333333334\n",
      "Epoch: 5 Cost: 0.6346737693519932 Train performance: 63.131818181818176 Dev performance: 62.53333333333333\n",
      "Epoch: 10 Cost: 0.6202168274962072 Train performance: 64.82727272727273 Dev performance: 63.6\n",
      "Epoch: 15 Cost: 0.6091861955470892 Train performance: 66.4090909090909 Dev performance: 63.53333333333333\n",
      "Epoch: 20 Cost: 0.6024695164202705 Train performance: 67.57272727272728 Dev performance: 64.2\n",
      "Epoch: 25 Cost: 0.5980743156065162 Train performance: 68.33636363636364 Dev performance: 64.66666666666666\n",
      "Epoch: 30 Cost: 0.5955915442354276 Train performance: 69.08636363636363 Dev performance: 64.86666666666666\n",
      "Epoch: 35 Cost: 0.5936210314514458 Train performance: 69.57727272727273 Dev performance: 65.66666666666666\n",
      "Epoch: 40 Cost: 0.5911905745569781 Train performance: 70.15 Dev performance: 66.53333333333333\n",
      "Epoch: 45 Cost: 0.5887228696886189 Train performance: 70.55454545454546 Dev performance: 66.86666666666666\n"
     ]
    },
    {
     "data": {
      "image/png": "[encoded data removed]",
      "text/plain": [
       "<matplotlib.figure.Figure at 0x1d0206b6be0>"
      ]
     },
     "metadata": {},
     "output_type": "display_data"
    }
   ],
   "source": [
    "layers_dims = [3072, 512, 1]\n",
    "parameters2, costs2, dev_costs2 = L_layer_model_default(train_set[0:22000], train_labels[0:22000], \n",
    "                             dev_set[:1500].T, dev_labels[:1500].T, \n",
    "                             layers_dims, \n",
    "                             epochs = 50,\n",
    "                             batch_size = 128,\n",
    "                             parameters=None, \n",
    "                             costs=None,\n",
    "                             dev_costs=None,\n",
    "                             learning_rate = 0.0075, \n",
    "                             log_every=5)"
   ]
  },
  {
   "cell_type": "markdown",
   "metadata": {},
   "source": [
    "### Test\n",
    "Test the network on test_set."
   ]
  },
  {
   "cell_type": "code",
   "execution_count": 104,
   "metadata": {},
   "outputs": [
    {
     "name": "stdout",
     "output_type": "stream",
     "text": [
      "Accuracy on test set: 67.66666666666666\n"
     ]
    }
   ],
   "source": [
    "def test(test_set, test_labels, parameters):\n",
    "    AL, _ = L_model_forward(test_set, parameters)\n",
    "    \n",
    "    prob = test_model(AL, test_labels)\n",
    "    \n",
    "    print(\"Accuracy on test set:\", prob) \n",
    "    \n",
    "    return prob\n",
    "\n",
    "prob = test(test_set.T, test_labels.T, parameters2)"
   ]
  },
  {
   "cell_type": "markdown",
   "metadata": {},
   "source": [
    "### Conclusion\n",
    "This is the highest we can get using Feed Forward Neural Netowks. This isn't such a bad predicion knowing that random guessing would get us around 50%. Using CNN we could get as close as 95% which is almost human level performance."
   ]
  },
  {
   "cell_type": "code",
   "execution_count": null,
   "metadata": {},
   "outputs": [],
   "source": []
  }
 ],
 "metadata": {
  "kernelspec": {
   "display_name": "Python 3",
   "language": "python",
   "name": "python3"
  },
  "language_info": {
   "codemirror_mode": {
    "name": "ipython",
    "version": 3
   },
   "file_extension": ".py",
   "mimetype": "text/x-python",
   "name": "python",
   "nbconvert_exporter": "python",
   "pygments_lexer": "ipython3",
   "version": "3.6.2"
  }
 },
 "nbformat": 4,
 "nbformat_minor": 2
}
