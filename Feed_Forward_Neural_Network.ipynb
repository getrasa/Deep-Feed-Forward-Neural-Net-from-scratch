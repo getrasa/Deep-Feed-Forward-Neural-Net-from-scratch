{
 "cells": [
  {
   "cell_type": "markdown",
   "metadata": {},
   "source": [
    "# L-layer Feed Forward Neural Network (+ L2 Norm, + Dropout)\n",
    "The purpose of this project is to build Deep Feed Forward Neural Network from scratch in python as well as implement and test few regularization techniques such as:\n",
    "- Dropout\n",
    "- L2 Norm\n",
    "- Batch Norm\n",
    "- Mini-batch\n",
    "- Weight Decay\n",
    "\n",
    "After the network is built, it will be trained using images of cats and dogs in order to learn the mapping from the inputs to the output and classify them correctly.\n",
    "\n",
    "Feed Forward Neural network is not the best choice for image classification and is significantly inferior to Convolutional Neural Network. It's merely used for the purpose of showing how varying regularization techniques affect the performance of the model."
   ]
  },
  {
   "cell_type": "code",
   "execution_count": 186,
   "metadata": {},
   "outputs": [],
   "source": [
    "# Import libraries\n",
    "import os\n",
    "import time\n",
    "import numpy as np\n",
    "import pandas as pd\n",
    "import random\n",
    "import zipfile\n",
    "import cv2\n",
    "\n",
    "# Visualiztion\n",
    "import matplotlib.pyplot as plt\n",
    "import seaborn as sns"
   ]
  },
  {
   "cell_type": "markdown",
   "metadata": {},
   "source": [
    "### Toy Dataset\n",
    "This dataset will be used to check the correctness of the neural network before applaying other dataset containing images of cats and dogs."
   ]
  },
  {
   "cell_type": "code",
   "execution_count": 341,
   "metadata": {},
   "outputs": [],
   "source": [
    "# Data\n",
    "x = np.array([  [0,0,1],\n",
    "                [0,1,1],\n",
    "                [1,0,1],\n",
    "                [1,1,1]  ]).T\n",
    "\n",
    "y = np.array([[0,0,1,1]])"
   ]
  },
  {
   "cell_type": "markdown",
   "metadata": {},
   "source": [
    "### Acivation Functions\n",
    "Activation functions which will be used in our model."
   ]
  },
  {
   "cell_type": "markdown",
   "metadata": {},
   "source": [
    "**Relu:**\n",
    "\n",
    "This activation function turns all negative values into 0s and all positive stay the same"
   ]
  },
  {
   "cell_type": "code",
   "execution_count": 111,
   "metadata": {},
   "outputs": [
    {
     "data": {
      "image/png": "[encoded data removed]",
      "text/plain": [
       "<matplotlib.figure.Figure at 0x1c3daab4e80>"
      ]
     },
     "metadata": {},
     "output_type": "display_data"
    }
   ],
   "source": [
    "def relu(x, deriv=False):\n",
    "    if deriv:\n",
    "        return 1. * (x > 0)\n",
    "    else:\n",
    "        return np.maximum(0,x)\n",
    "\n",
    "j = np.arange(20)-10\n",
    "    \n",
    "plt.plot(j, relu(j))\n",
    "plt.show()"
   ]
  },
  {
   "cell_type": "markdown",
   "metadata": {},
   "source": [
    "**Sigmoid:**\n",
    "\n",
    "This function (description here, with math)"
   ]
  },
  {
   "cell_type": "code",
   "execution_count": 71,
   "metadata": {},
   "outputs": [
    {
     "data": {
      "image/png": "[encoded data removed]",
      "text/plain": [
       "<matplotlib.figure.Figure at 0x1c3dada8fd0>"
      ]
     },
     "metadata": {},
     "output_type": "display_data"
    }
   ],
   "source": [
    "def sigmoid(x, deriv=False):\n",
    "    if deriv:\n",
    "        return (1/(1 + np.exp(-x))) * (1-(1/(1 + np.exp(-x))))\n",
    "    else:\n",
    "        return 1/(1 + np.exp(-x))\n",
    "    \n",
    "j = np.arange(20) - 10\n",
    "\n",
    "plt.plot(j, sigmoid(j))\n",
    "plt.show()"
   ]
  },
  {
   "cell_type": "markdown",
   "metadata": {},
   "source": [
    "### Building the network"
   ]
  },
  {
   "cell_type": "markdown",
   "metadata": {},
   "source": [
    "**Initialize parameters for an L-layer neural network**\n",
    "\n",
    "Initialize weights and biases given **layer_dims** variable. For instance a network with dimensions of $[4, 3, 1]$ will be 2 layers deep because the input layer $[4]$ is ommited and isn't included in the numer of layers. The network will therefore have 2 sets of weights and biases with dimensions of $W^{[1]} = [3, 4], b^{[1]} = [3, 1], W^{[2]} = [1, 3], b^{[2]} = [1, 1]$.\n",
    "\n",
    "- Input layer [4] is ommited and doesn't add up to the numer of layers.\n",
    "- Dimensions of $W[l] = [l, l - 1]$ while the dimensions of $b[l] = [l, 0]$\n",
    "- Use random initialization for weights and initialize all biases to zero."
   ]
  },
  {
   "cell_type": "code",
   "execution_count": 356,
   "metadata": {},
   "outputs": [],
   "source": [
    "def initialize_parameters(layer_dims):\n",
    "    \n",
    "    np.random.seed(1) # This ensures that our number values will always be the same.\n",
    "    parameters = {}\n",
    "    \n",
    "    L = len(layers_dims) # Number of layers in the network\n",
    "    \n",
    "    for l in range(1, L):\n",
    "        parameters['W' + str(l)] = np.random.randn(layer_dims[l], layer_dims[l-1]) / np.sqrt(layer_dims[l-1]) #*0.01\n",
    "        parameters['b' + str(l)] = np.zeros((layer_dims[l], 1))\n",
    "        \n",
    "        assert(parameters['W' + str(l)].shape == (layer_dims[l], layer_dims[l-1]))\n",
    "        assert(parameters['b' + str(l)].shape == (layer_dims[l], 1))\n",
    "        \n",
    "    return parameters"
   ]
  },
  {
   "cell_type": "markdown",
   "metadata": {},
   "source": [
    "### Forward propagation\n",
    "Forward propagation represents one forward pass through the network. Given inputs $X^n$ the network calculates the probability $AL$ ranging from 0 to 1.\n",
    "\n",
    "\n",
    "<img src=\"https://image.ibb.co/hjKjnc/network_graph.png\" style=\"width:800px;height:400px;\">\n"
   ]
  },
  {
   "cell_type": "markdown",
   "metadata": {},
   "source": [
    "**Compute the forward pass:**\n",
    "$$Z^{[1]} = (W^{[1]})^T * X + b^{[1]}$$\n",
    "$$A^{[1]} = relu(Z^{[1]})$$\n",
    "$$Z^{[2]} = (W^{[2]})^T * A^{[1]} + b^{[2]}$$\n",
    "$$output = AL = sigmoid(Z^{[2]})$$\n"
   ]
  },
  {
   "cell_type": "code",
   "execution_count": 177,
   "metadata": {},
   "outputs": [],
   "source": [
    "def linear_forward(A_prev, W, b):\n",
    "    Z = np.dot(W, A_prev) + b\n",
    "    cache = (A_prev, W, b)\n",
    "    \n",
    "    return Z, cache"
   ]
  },
  {
   "cell_type": "code",
   "execution_count": 178,
   "metadata": {},
   "outputs": [],
   "source": [
    "def linear_activation_forward(A_prev, W, b, activation):\n",
    "    \n",
    "    if activation == \"relu\":\n",
    "        Z, linear_cache = linear_forward(A_prev, W, b)\n",
    "        A, activation_cache = relu(Z), Z\n",
    "        \n",
    "    elif activation == \"sigmoid\":\n",
    "        Z, linear_cache = linear_forward(A_prev, W, b)\n",
    "        A, activation_cache = sigmoid(Z), Z\n",
    "        \n",
    "    cache = (linear_cache, activation_cache)\n",
    "    \n",
    "    return A, cache"
   ]
  },
  {
   "cell_type": "code",
   "execution_count": 362,
   "metadata": {},
   "outputs": [],
   "source": [
    "def L_model_forward(X, parameters):\n",
    "    L = len(parameters) // 2\n",
    "    caches = []\n",
    "    A = X\n",
    "    \n",
    "    for l in range(1, L):\n",
    "        A_prev = A\n",
    "        A, cache = linear_activation_forward(A_prev, parameters[\"W\" + str(l)], parameters[\"b\" + str(l)], activation=\"relu\")\n",
    "        caches.append(cache)\n",
    "    \n",
    "    AL, cache = linear_activation_forward(A, parameters[\"W\" + str(L)], parameters[\"b\" + str(L)], activation=\"sigmoid\")\n",
    "    caches.append(cache)\n",
    "    \n",
    "    return AL, caches"
   ]
  },
  {
   "cell_type": "markdown",
   "metadata": {},
   "source": [
    "### Compute cost\n",
    "\n",
    "Compute the cross-entropy cost $J$, using the following formula: $$-\\frac{1}{m} \\sum\\limits_{i = 1}^{m} (y^{(i)}\\log\\left(a^{[L] (i)}\\right) + (1-y^{(i)})\\log\\left(1- a^{[L](i)}\\right)) \\tag{7}$$"
   ]
  },
  {
   "cell_type": "code",
   "execution_count": 106,
   "metadata": {},
   "outputs": [],
   "source": [
    "def compute_cost(AL, Y):\n",
    "    m = Y.shape[1]\n",
    "\n",
    "    # Compute loss from aL and y.\n",
    "    cost = (1./m) * (-np.dot(Y,np.log(AL).T) - np.dot(1-Y, np.log(1-AL).T))\n",
    "    \n",
    "    cost = np.squeeze(cost)      # To make sure your cost's shape is what we expect (e.g. this turns [[17]] into 17).\n",
    "    assert(cost.shape == ())\n",
    "    \n",
    "    return cost"
   ]
  },
  {
   "cell_type": "markdown",
   "metadata": {},
   "source": [
    "### Backpropagation\n",
    "Backpropagation represents one backward pass through the network. It calculates the gradients of our parameters $[W^{[1]}], [b^{[1]}], [W^{[2]}], [2^{[2]}]$ with respect to the cost $J$.\n",
    "The gradients are then used to update these parameters using some optimization technique such as gradiend descent, rms-prop or adam.\n",
    "\n",
    "**Compute the backward pass:**\n",
    "$$ dA^{[l]} = \\frac{\\partial \\mathcal{L} }{\\partial AL} = AL - Y$$\n",
    "\n",
    "$$Not Finished$$"
   ]
  },
  {
   "cell_type": "code",
   "execution_count": 118,
   "metadata": {},
   "outputs": [],
   "source": [
    "def linear_backward(dZ, cache):\n",
    "    A_prev, W, b = cache\n",
    "    m = A_prev.shape[1]\n",
    "    \n",
    "    dW = (1.0 / m) * np.dot(dZ, A_prev.T)\n",
    "    db = (1.0 / m) * np.sum(dZ, axis=-1, keepdims=True)\n",
    "    \n",
    "    dA_prev = np.dot(W.T, dZ)\n",
    "    \n",
    "    return dA_prev, dW, db"
   ]
  },
  {
   "cell_type": "code",
   "execution_count": 119,
   "metadata": {},
   "outputs": [],
   "source": [
    "def sigmoid_backward(dA, cache):\n",
    "    \n",
    "    Z = cache\n",
    "    \n",
    "    s = 1/(1+np.exp(-Z))\n",
    "    dZ = dA * s * (1-s)\n",
    "    \n",
    "    assert (dZ.shape == Z.shape)\n",
    "    \n",
    "    return dZ\n",
    "\n",
    "def relu_backward(dA, cache):\n",
    "\n",
    "    Z = cache\n",
    "    dZ = np.array(dA, copy=True) # just converting dz to a correct object.\n",
    "    \n",
    "    # When z <= 0, you should set dz to 0 as well. \n",
    "    dZ[Z <= 0] = 0\n",
    "    \n",
    "    assert (dZ.shape == Z.shape)\n",
    "    \n",
    "    return dZ\n",
    "\n",
    "\n",
    "def linear_activation_backward(dA, cache, activation):\n",
    "    linear_cache, activation_cache = cache\n",
    "    \n",
    "    if activation == \"relu\":\n",
    "        dZ = relu_backward(dA, activation_cache)\n",
    "        \n",
    "    elif activation == \"sigmoid\":\n",
    "        dZ = sigmoid_backward(dA, activation_cache)\n",
    "        \n",
    "    dA_prev, dW, db = linear_backward(dZ, linear_cache)\n",
    "    \n",
    "    return dA_prev, dW, db\n",
    "        "
   ]
  },
  {
   "cell_type": "code",
   "execution_count": 370,
   "metadata": {},
   "outputs": [],
   "source": [
    "def L_model_backward(AL, Y, caches):\n",
    "    L = len(caches)\n",
    "    grads = {}\n",
    "    m = AL.shape[1]\n",
    "    Y = Y.reshape(AL.shape)\n",
    "    \n",
    "    dAL = - (np.divide(Y, AL) - np.divide(1 - Y, 1 - AL))\n",
    "    \n",
    "    current_cache = caches[-1]\n",
    "    grads[\"dA\" + str(L)], grads[\"dW\" + str(L)], grads[\"db\" + str(L)] = linear_activation_backward(dAL, current_cache, \n",
    "                                                                                                  activation = \"sigmoid\")\n",
    "    \n",
    "    for l in reversed(range(1, L)):\n",
    "        current_cache = caches[l - 1]\n",
    "        dA = grads[\"dA\" + str(l+1)]\n",
    "        grads[\"dA\" + str(l)], grads[\"dW\" + str(l)], grads[\"db\" + str(l)] = linear_activation_backward(dA, current_cache,\n",
    "                                                                                                     activation = \"relu\")\n",
    "    return grads"
   ]
  },
  {
   "cell_type": "markdown",
   "metadata": {},
   "source": [
    "### Update parameters (using Gradient Descent)"
   ]
  },
  {
   "cell_type": "code",
   "execution_count": 364,
   "metadata": {},
   "outputs": [],
   "source": [
    "def update_parameters(parameters, grads, learning_rate):\n",
    "    L = len(parameters) // 2 # number of layers in the neural network\n",
    "\n",
    "    # Update rule for each parameter. Use a for loop.\n",
    "    for l in range(L):\n",
    "        parameters[\"W\" + str(l+1)] = parameters[\"W\" + str(l+1)] - learning_rate * grads[\"dW\" + str(l+1)]\n",
    "        parameters[\"b\" + str(l+1)] = parameters[\"b\" + str(l+1)] - learning_rate * grads[\"db\" + str(l+1)]\n",
    "        \n",
    "    return parameters"
   ]
  },
  {
   "cell_type": "markdown",
   "metadata": {},
   "source": [
    "### Build the Network"
   ]
  },
  {
   "cell_type": "code",
   "execution_count": 365,
   "metadata": {},
   "outputs": [],
   "source": [
    "# Constants #\n",
    "layers_dims = [3, 5, 5, 1]"
   ]
  },
  {
   "cell_type": "code",
   "execution_count": 396,
   "metadata": {},
   "outputs": [],
   "source": [
    "def L_layer_model_simple(X, Y, layers_dims, iterations, parameters=None, learning_rate = 0.0075, log_every = 10):\n",
    "\n",
    "    parameters = initialize_parameters(layers_dims)\n",
    "    costs = []\n",
    "    \n",
    "    for i in range(iterations):\n",
    "\n",
    "        # Forward pass\n",
    "        AL, caches = L_model_forward(X, parameters)\n",
    "        \n",
    "        # Calculate the cost\n",
    "        cost = compute_cost(AL, Y)\n",
    "        costs.append(cost)\n",
    "        \n",
    "        # Get gradients for our parameters\n",
    "        grads = L_model_backward(AL, Y, caches)\n",
    "\n",
    "        # Update parameters using gradient descent\n",
    "        parameters = update_parameters(parameters, grads, learning_rate)\n",
    "        \n",
    "        if i % log_every == 0:\n",
    "            print(\"Iteration:\", i, \"Cost:\", cost)\n",
    "            \n",
    "    # Plot the cost\n",
    "    plt.plot(np.squeeze(costs))\n",
    "    plt.ylabel('cost')\n",
    "    plt.xlabel('iterations')\n",
    "    plt.title(\"Learning rate =\" + str(learning_rate))\n",
    "    plt.show()\n",
    "    \n",
    "    return parameters, costs"
   ]
  },
  {
   "cell_type": "code",
   "execution_count": 371,
   "metadata": {},
   "outputs": [
    {
     "name": "stdout",
     "output_type": "stream",
     "text": [
      "Iteration: 0 Cost: 0.690750398375514\n",
      "Iteration: 500 Cost: 0.4936871776582399\n",
      "Iteration: 1000 Cost: 0.23904265175421413\n",
      "Iteration: 1500 Cost: 0.07821585002966713\n",
      "Iteration: 2000 Cost: 0.02986988158486701\n",
      "Iteration: 2500 Cost: 0.0157054585384173\n",
      "Iteration: 3000 Cost: 0.009963254029318597\n",
      "Iteration: 3500 Cost: 0.007090680859856887\n",
      "Iteration: 4000 Cost: 0.005391163350264521\n",
      "Iteration: 4500 Cost: 0.004289963209659829\n"
     ]
    },
    {
     "data": {
      "image/png": "[encoded data removed]",
      "text/plain": [
       "<matplotlib.figure.Figure at 0x1c3e2dd6128>"
      ]
     },
     "metadata": {},
     "output_type": "display_data"
    }
   ],
   "source": [
    "parameters, costs = L_layer_model_simple(x, y, layers_dims, iterations = 5000, log_every=500)"
   ]
  },
  {
   "cell_type": "markdown",
   "metadata": {},
   "source": [
    "The loss calculated on the entire dataset decreases smoovely meaning that the gradient descent is implemented correctly."
   ]
  },
  {
   "cell_type": "markdown",
   "metadata": {},
   "source": [
    "# Real World Dataset (Dogs/Cats Classifier)\n",
    "In this part the network will be applied to real world tasks such as photo classification. We'll train the network on 2,000 labeled images of cats and dogs and then evaluate it on 500 examples of test data."
   ]
  },
  {
   "cell_type": "markdown",
   "metadata": {},
   "source": [
    "### Load and Preprocess Images\n",
    "Load all images into numpy arrays and resize them to $[64, 64, 3]$. Colored images have 3 RGB channels while black and white images have only 1 channel. This dataset contains only colored images and that's what will be loaded into our 3 separate datasets: **train_set, dev_set and test_set**. \n",
    "- Our network will be trained on train_set, then we'll verify how well it's doing on the dev_set and then tweek our parameters. At the very when everything works well we'll test its finally performance using test_set to make sure that our network doesn't overfeet train and dev sets.\n",
    "- All images will be flattened into $[m, 12288]$ where $m$ is a number of images and $12288 = 64 x 64 x 3$ so that we can feed it into our neural network\n",
    "- Then we'll normalize (scale) all pixels in our images by dividing them by max value a pixel can have (255) to help the network converge quicker. The reason for this is that if the input values are to high sigmoid activation function has hard time dealing with them and outputs very small numbers which result in tiny gradients during backpropagation and therefore slow down the learning process. (Look at the graph above showing sigmoid function). "
   ]
  },
  {
   "cell_type": "code",
   "execution_count": 240,
   "metadata": {},
   "outputs": [
    {
     "name": "stdout",
     "output_type": "stream",
     "text": [
      "Processed 0 of 2000\n",
      "Processed 250 of 2000\n",
      "Processed 500 of 2000\n",
      "Processed 750 of 2000\n",
      "Processed 1000 of 2000\n",
      "Processed 1250 of 2000\n",
      "Processed 1500 of 2000\n",
      "Processed 1750 of 2000\n",
      "Processed 0 of 500\n",
      "Processed 250 of 500\n",
      "Processed 0 of 500\n",
      "Processed 250 of 500\n",
      "Train set shape: (2000, 12288), Train labels shape: (2000, 1)\n",
      "Dev set shape: (500, 12288), Dev labels shape: (500, 1)\n",
      "Test set shape: (500, 12288), Test labels shape: (500, 1)\n"
     ]
    }
   ],
   "source": [
    "# Directories\n",
    "TRAIN_DIR = 'input/train/'\n",
    "TEST_DIR = \"test/\"\n",
    "\n",
    "# Image size\n",
    "HIGHT, WIDTH, CHANNELS = 64, 64, 3\n",
    "\n",
    "# Load the image directories into variables and split them into separate data sets.\n",
    "img_dogs =   [TRAIN_DIR+i for i in os.listdir(TRAIN_DIR) if 'dog' in i]\n",
    "img_cats =   [TRAIN_DIR+i for i in os.listdir(TRAIN_DIR) if 'cat' in i]\n",
    "\n",
    "train_images = img_dogs[:1000] + img_cats[:1000]\n",
    "dev_images = img_dogs[1000:1250] + img_cats[1000:1250]\n",
    "test_images = img_dogs[1250:1500] + img_cats[1250:1500]\n",
    "\n",
    "# Randomly shuffle the images\n",
    "random.shuffle(train_images), random.shuffle(dev_images), random.shuffle(test_images)\n",
    "\n",
    "# Load the image from given directorie\n",
    "def read_image(file_path):\n",
    "    img = cv2.imread(file_path, cv2.IMREAD_COLOR) #cv2.IMREAD_GRAYSCALE\n",
    "    return cv2.resize(img, (ROWS, COLS), interpolation=cv2.INTER_CUBIC)\n",
    "\n",
    "# Load the images into 64 x 64 x 3 numpy arrays\n",
    "def prep_data(images):\n",
    "    count = len(images)\n",
    "    data = np.ndarray((count, ROWS, COLS, CHANNELS), dtype=np.uint8)\n",
    "\n",
    "    for i, image_file in enumerate(images):\n",
    "        image = read_image(image_file)\n",
    "        data[i] = image\n",
    "        if i%250 == 0: print('Processed {} of {}'.format(i, count))\n",
    "    \n",
    "    return data\n",
    "\n",
    "# Flatten the images with dimensions [64, 64, 3] into one row array [12288, 1]. (12288 = 64*64*3)\n",
    "def flatten_images(data):\n",
    "    m = data.shape[0]\n",
    "    depth = data.shape[1]\n",
    "    width = data.shape[2]\n",
    "    height = data.shape[3]\n",
    "    \n",
    "    flatten_images = data.reshape(m, depth*width*height)\n",
    "    return flatten_images\n",
    "\n",
    "# Noramlize the images by dividing the pixels by the highest value they can be which is 255.\n",
    "def normalize_images(images):\n",
    "    return images / 255\n",
    "\n",
    "# Create labels for the images\n",
    "def create_labels(images):\n",
    "    labels = []\n",
    "    for i in images:\n",
    "        if 'dog' in i:\n",
    "            labels.append(1)\n",
    "        else:\n",
    "            labels.append(0)\n",
    "    labels = np.array(labels, ndmin=2).T\n",
    "    return labels\n",
    "\n",
    "\n",
    "# Load images into datasets\n",
    "train_set = normalize_images(flatten_images(prep_data(train_images)))\n",
    "dev_set = normalize_images(flatten_images(prep_data(dev_images)))\n",
    "test_set = normalize_images(flatten_images(prep_data(test_images)))\n",
    "\n",
    "# Create labels\n",
    "train_labels = create_labels(train_images)\n",
    "dev_labels = create_labels(dev_images)\n",
    "test_labels = create_labels(test_images)\n",
    "\n",
    "print(\"Train set shape: {}, Train labels shape: {}\".format(train_set.shape, train_labels.shape))\n",
    "print(\"Dev set shape: {}, Dev labels shape: {}\".format(dev_set.shape, dev_labels.shape))\n",
    "print(\"Test set shape: {}, Test labels shape: {}\".format(test_set.shape, test_labels.shape))"
   ]
  },
  {
   "cell_type": "markdown",
   "metadata": {},
   "source": [
    "**Show an Image**\n",
    "\n",
    "Show an image of a dog with a label 1 (dog = 1, cat = 0)."
   ]
  },
  {
   "cell_type": "code",
   "execution_count": 241,
   "metadata": {},
   "outputs": [
    {
     "data": {
      "image/png": "[encoded data removed]",
      "text/plain": [
       "<matplotlib.figure.Figure at 0x1c3db1ce7b8>"
      ]
     },
     "metadata": {},
     "output_type": "display_data"
    }
   ],
   "source": [
    "plt.imshow(train_set[110].reshape(64, 64, 3))\n",
    "plt.title(train_labels[110])\n",
    "plt.show()"
   ]
  },
  {
   "cell_type": "markdown",
   "metadata": {},
   "source": [
    "### Build a model (mini-batch)\n",
    "Training the network on let say 10.000 images at the same time requires a lot of computing power. Therefore to make it easier on our computer we implement mini-batching which divides the dataset into many samples of let's say 64 and then feed that into the neural network. Then we'll test our networks performance on a development set to see how well it generalizes to the images it has not seen before.\n",
    "- Implemet mini-batches\n",
    "- Implement test_model() fucntion"
   ]
  },
  {
   "cell_type": "code",
   "execution_count": 334,
   "metadata": {},
   "outputs": [],
   "source": [
    "def get_batches(images, labels, batch_size):\n",
    "    ''' Create a generator of images batches as a tuple (inputs, targets) '''\n",
    "    \n",
    "    n_batches = len(images) //batch_size\n",
    "    \n",
    "    # only full batches\n",
    "    images = images[:n_batches*batch_size]\n",
    "    \n",
    "    for idx in range(0, len(images), batch_size):\n",
    "        batch_inputs = images[idx:idx+batch_size]\n",
    "        batch_labels = labels[idx:idx+batch_size]\n",
    "        \n",
    "        yield (np.array(batch_inputs).T , np.array(batch_labels, ndmin=2).T)"
   ]
  },
  {
   "cell_type": "code",
   "execution_count": 335,
   "metadata": {},
   "outputs": [],
   "source": [
    "def test_model(AL, Y):\n",
    "    # Number of examples\n",
    "    m = Y.shape[1]\n",
    "    correct = 0\n",
    "    for i in range(m):\n",
    "        if(AL[0,i] >= 0.5 and Y[0,i] == 1):\n",
    "            correct += 1\n",
    "            \n",
    "        elif(AL[0,i] < 0.5 and Y[0,i] == 0):\n",
    "            correct += 1\n",
    "            \n",
    "    prob = (correct / m) * 100\n",
    "    return prob        "
   ]
  },
  {
   "cell_type": "code",
   "execution_count": 387,
   "metadata": {},
   "outputs": [],
   "source": [
    "def L_layer_model_default(x, y, X_dev, Y_dev, layers_dims, epochs, parameters=None, costs=None, learning_rate = 0.0075, log_every = 10):\n",
    "    \n",
    "    if parameters == None:\n",
    "        parameters = initialize_parameters(layers_dims)\n",
    "        costs = []\n",
    "        \n",
    "    \n",
    "    for epoch in range(epochs):\n",
    "        batches = get_batches(x, y, 2000)\n",
    "        \n",
    "        for i, (X, Y) in enumerate(batches):\n",
    "            \n",
    "            AL, caches = L_model_forward(X, parameters)\n",
    "\n",
    "            cost = compute_cost(AL, Y)\n",
    "            costs.append(cost)\n",
    "\n",
    "            grads = L_model_backward(AL, Y, caches)\n",
    "\n",
    "            parameters = update_parameters(parameters, grads, learning_rate)\n",
    "\n",
    "            \n",
    "        if epoch % log_every == 0:\n",
    "            AL, _ = L_model_forward(X_dev, parameters)\n",
    "            prob = test_model(AL, Y_dev)\n",
    "            print(\"Epoch:\", epoch, \"Cost:\", cost, \"Dev performance:\", prob)\n",
    "\n",
    "\n",
    "        \n",
    "\n",
    "            \n",
    "    # plot the cost\n",
    "    plt.plot(np.squeeze(costs))\n",
    "    plt.ylabel('cost')\n",
    "    plt.xlabel('iterations')\n",
    "    plt.title(\"Learning rate =\" + str(learning_rate))\n",
    "    plt.show()\n",
    "    \n",
    "    return parameters, costs"
   ]
  },
  {
   "cell_type": "markdown",
   "metadata": {},
   "source": [
    "### Train the Network\n",
    "Train the network without any regularization techniques to see its default performance."
   ]
  },
  {
   "cell_type": "code",
   "execution_count": 388,
   "metadata": {},
   "outputs": [],
   "source": [
    "# Constants #\n",
    "layers_dims = [12288, 256, 7, 5, 1]"
   ]
  },
  {
   "cell_type": "code",
   "execution_count": 394,
   "metadata": {},
   "outputs": [
    {
     "name": "stdout",
     "output_type": "stream",
     "text": [
      "Epoch: 0 Cost: 0.7644870968564936 Dev performance: 60.4\n",
      "Epoch: 20 Cost: 0.26913524642306824 Dev performance: 58.599999999999994\n",
      "Epoch: 40 Cost: 0.9318101673851559 Dev performance: 52.2\n",
      "Epoch: 60 Cost: 0.2857790073275078 Dev performance: 56.39999999999999\n",
      "Epoch: 80 Cost: 0.31577270786554446 Dev performance: 55.60000000000001\n",
      "Epoch: 100 Cost: 0.3367407239412904 Dev performance: 58.8\n",
      "Epoch: 120 Cost: 0.22473997461839076 Dev performance: 59.4\n",
      "Epoch: 140 Cost: 0.7568688835057309 Dev performance: 59.4\n",
      "Epoch: 160 Cost: 0.31203564981052045 Dev performance: 57.99999999999999\n",
      "Epoch: 180 Cost: 0.25957601163761024 Dev performance: 58.8\n",
      "Epoch: 200 Cost: 0.25636536553729256 Dev performance: 54.400000000000006\n",
      "Epoch: 220 Cost: 0.2445920527542763 Dev performance: 58.199999999999996\n",
      "Epoch: 240 Cost: 0.23682119474573635 Dev performance: 56.2\n",
      "Epoch: 260 Cost: 0.8233592910669176 Dev performance: 56.2\n",
      "Epoch: 280 Cost: 0.3373489526686549 Dev performance: 60.199999999999996\n",
      "Epoch: 300 Cost: 0.21706563748591248 Dev performance: 57.8\n",
      "Epoch: 320 Cost: 0.44416918307363334 Dev performance: 53.6\n",
      "Epoch: 340 Cost: 0.3792187137793658 Dev performance: 60.6\n",
      "Epoch: 360 Cost: 0.298336496382601 Dev performance: 57.4\n",
      "Epoch: 380 Cost: 0.22481222596817543 Dev performance: 59.599999999999994\n",
      "Epoch: 400 Cost: 0.18646141824561233 Dev performance: 58.199999999999996\n",
      "Epoch: 420 Cost: 0.21228974019197178 Dev performance: 57.8\n",
      "Epoch: 440 Cost: 0.30003035647978665 Dev performance: 54.6\n",
      "Epoch: 460 Cost: 0.3824034363856609 Dev performance: 60.0\n",
      "Epoch: 480 Cost: 0.2767192760020383 Dev performance: 58.599999999999994\n"
     ]
    },
    {
     "data": {
      "image/png": "[encoded data removed]",
      "text/plain": [
       "<matplotlib.figure.Figure at 0x1c380161048>"
      ]
     },
     "metadata": {},
     "output_type": "display_data"
    }
   ],
   "source": [
    "parameters, costs = L_layer_model_default(train_set[0:2000], train_labels[0:2000], dev_set[:500].T, dev_labels[:500].T, \n",
    "                                          layers_dims, epochs = 500, parameters=parameters, costs=costs, log_every=20)"
   ]
  },
  {
   "cell_type": "markdown",
   "metadata": {},
   "source": [
    "**Analysis:**\n",
    "\n",
    "Around the $1500th$ iteration the cost shown on the graph is extremaly wiggle. This is caused by exploding gradients. The weights keep increasing also causing the gradients to increase which then results in even greater change in weights. This continues until the weights overflow and become **Nan**."
   ]
  },
  {
   "cell_type": "code",
   "execution_count": 395,
   "metadata": {},
   "outputs": [
    {
     "name": "stdout",
     "output_type": "stream",
     "text": [
      "[[ 0.01524733 -0.0047207  -0.00450476 ..., -0.00531513 -0.00342559\n",
      "   0.00794028]\n",
      " [ 0.00855312  0.00206966 -0.00626922 ...,  0.00495552 -0.00208478\n",
      "   0.00046748]\n",
      " [-0.00082655  0.00114169  0.00624347 ...,  0.00593755 -0.00056147\n",
      "  -0.0088975 ]\n",
      " ..., \n",
      " [-0.01231481  0.01231275  0.00553943 ..., -0.01492595 -0.00306558\n",
      "   0.00618447]\n",
      " [ 0.0084165   0.02305398 -0.00345911 ..., -0.01279296  0.02284275\n",
      "   0.00310887]\n",
      " [-0.00259337  0.0001295  -0.01730905 ...,  0.00986485 -0.00628366\n",
      "   0.00495594]]\n"
     ]
    }
   ],
   "source": [
    "print(parameters[\"W1\"])"
   ]
  },
  {
   "cell_type": "markdown",
   "metadata": {},
   "source": [
    "### Build a model (L2 norm)\n",
    "The graph above shows that the loss function is extremaly wiggle. This happens because of something called exploding gradients resulting in large changes in loss from update to update. In deep multilayer neural networks, exploding gradients can result in an unstable network that at best cannot learn from the training data and at worst results in NaN weight values that can no longer be updated. \n",
    "- In order to deal with exploding gradients we'll implement L2 norm which applies penalty to the network's loss function for large weight values.\n",
    "- Then we'll reduce batch_size to 32 (apparently it helps)"
   ]
  },
  {
   "cell_type": "code",
   "execution_count": null,
   "metadata": {},
   "outputs": [],
   "source": []
  }
 ],
 "metadata": {
  "kernelspec": {
   "display_name": "Python 3",
   "language": "python",
   "name": "python3"
  },
  "language_info": {
   "codemirror_mode": {
    "name": "ipython",
    "version": 3
   },
   "file_extension": ".py",
   "mimetype": "text/x-python",
   "name": "python",
   "nbconvert_exporter": "python",
   "pygments_lexer": "ipython3",
   "version": "3.6.2"
  }
 },
 "nbformat": 4,
 "nbformat_minor": 2
}
